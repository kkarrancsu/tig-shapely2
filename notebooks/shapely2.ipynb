{
 "cells": [
  {
   "cell_type": "code",
   "execution_count": 8,
   "metadata": {},
   "outputs": [],
   "source": [
    "import itertools\n",
    "import math"
   ]
  },
  {
   "cell_type": "code",
   "execution_count": 9,
   "metadata": {},
   "outputs": [],
   "source": [
    "def compute_shapley(penalties, require_ai=True):\n",
    "    \"\"\"\n",
    "    Compute Shapley values for roles given missing-role penalties.\n",
    "\n",
    "    Parameters:\n",
    "    - penalties: dict mapping each role ('AI','B','CI','CM') to its missing-role penalty.\n",
    "    - require_ai: if True, any coalition missing 'AI' has value 0.\n",
    "\n",
    "    Returns:\n",
    "    - shapley: dict mapping each role to its Shapley value (sums to 1 if total value normalized to 1).\n",
    "    \"\"\"\n",
    "    players = list(penalties.keys())\n",
    "    n = len(players)\n",
    "\n",
    "    def v(coalition):\n",
    "        # characteristic function: value of a coalition\n",
    "        S = set(coalition)\n",
    "        if require_ai and 'AI' not in S:\n",
    "            return 0.0\n",
    "        # start from total potential value = 1.0\n",
    "        val = 1.0\n",
    "        # subtract penalty for each missing role\n",
    "        for p, pen in penalties.items():\n",
    "            if p not in S:\n",
    "                val -= pen\n",
    "        # ensure non-negative\n",
    "        return max(val, 0.0)\n",
    "\n",
    "    # initialize Shapley values\n",
    "    shapley = {p: 0.0 for p in players}\n",
    "    factorial = math.factorial\n",
    "\n",
    "    # iterate over each role\n",
    "    for p in players:\n",
    "        others = [q for q in players if q != p]\n",
    "        # consider all subsets of the other players\n",
    "        for k in range(len(others) + 1):\n",
    "            for subset in itertools.combinations(others, k):\n",
    "                S = set(subset)\n",
    "                marginal = v(S.union({p})) - v(S)\n",
    "                weight = factorial(len(S)) * factorial(n - len(S) - 1) / factorial(n)\n",
    "                shapley[p] += weight * marginal\n",
    "\n",
    "    return shapley"
   ]
  },
  {
   "cell_type": "code",
   "execution_count": 10,
   "metadata": {},
   "outputs": [
    {
     "name": "stdout",
     "output_type": "stream",
     "text": [
      "Shapley Value Allocations:\n",
      "  AI: 0.7400\n",
      "  B: 0.0500\n",
      "  CI: 0.0100\n",
      "  CM: 0.2000\n"
     ]
    }
   ],
   "source": [
    "# Define penalties for missing each role\n",
    "penalties = {\n",
    "    'AI': 1.0,   # not used if require_ai=True (coalitions without AI are zero)\n",
    "    'B': 0.10,   # penalty for missing Benchmarkers\n",
    "    'CI': 0.02,  # penalty for missing Code Innovators\n",
    "    'CM': 0.40   # penalty for missing Challenge Maintainers\n",
    "}\n",
    "\n",
    "# Compute Shapley values\n",
    "shapley_vals = compute_shapley(penalties, require_ai=False)\n",
    "\n",
    "# Display results\n",
    "print(\"Shapley Value Allocations:\")\n",
    "for role, value in shapley_vals.items():\n",
    "    print(f\"  {role}: {value:.4f}\")"
   ]
  },
  {
   "cell_type": "code",
   "execution_count": null,
   "metadata": {},
   "outputs": [],
   "source": []
  },
  {
   "cell_type": "code",
   "execution_count": null,
   "metadata": {},
   "outputs": [],
   "source": []
  }
 ],
 "metadata": {
  "kernelspec": {
   "display_name": "tig",
   "language": "python",
   "name": "python3"
  },
  "language_info": {
   "codemirror_mode": {
    "name": "ipython",
    "version": 3
   },
   "file_extension": ".py",
   "mimetype": "text/x-python",
   "name": "python",
   "nbconvert_exporter": "python",
   "pygments_lexer": "ipython3",
   "version": "3.12.7"
  }
 },
 "nbformat": 4,
 "nbformat_minor": 2
}
