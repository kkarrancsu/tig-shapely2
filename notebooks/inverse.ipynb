{
 "cells": [
  {
   "cell_type": "code",
   "execution_count": 1,
   "metadata": {},
   "outputs": [],
   "source": [
    "import itertools\n",
    "import math\n",
    "from scipy.optimize import least_squares"
   ]
  },
  {
   "cell_type": "code",
   "execution_count": 2,
   "metadata": {},
   "outputs": [],
   "source": [
    "def compute_shapley(w):\n",
    "    \"\"\"\n",
    "    Compute Shapley values for each role given penalties.\n",
    "    \n",
    "    Parameters:\n",
    "    - w: list or tuple [w_CM, w_B, w_CI]\n",
    "    \n",
    "    Returns:\n",
    "    - dict with Shapley values for 'AI','B','CI','CM'\n",
    "    \"\"\"\n",
    "    w_CM, w_B, w_CI = w\n",
    "    players = [\"AI\", \"B\", \"CI\", \"CM\"]\n",
    "    n = len(players)\n",
    "    \n",
    "    def v(coalition):\n",
    "        S = set(coalition)\n",
    "        # Require AI to be present\n",
    "        if \"AI\" not in S:\n",
    "            return 0.0\n",
    "        val = 1.0\n",
    "        # Subtract penalty for missing roles\n",
    "        if \"CM\" not in S:\n",
    "            val -= w_CM\n",
    "        if \"B\" not in S:\n",
    "            val -= w_B\n",
    "        if \"CI\" not in S:\n",
    "            val -= w_CI\n",
    "        return max(val, 0.0)\n",
    "    \n",
    "    shapley = {p: 0.0 for p in players}\n",
    "    fact = math.factorial\n",
    "    \n",
    "    for p in players:\n",
    "        others = [q for q in players if q != p]\n",
    "        for k in range(len(others) + 1):\n",
    "            for subset in itertools.combinations(others, k):\n",
    "                S = set(subset)\n",
    "                marginal = v(S.union({p})) - v(S)\n",
    "                weight = fact(len(S)) * fact(n - len(S) - 1) / fact(n)\n",
    "                shapley[p] += weight * marginal\n",
    "    \n",
    "    return shapley\n",
    "\n",
    "def find_penalties(target, initial_guess=(0.3, 0.3, 0.1)):\n",
    "    \"\"\"\n",
    "    Find missing-role penalties that match desired Shapley values.\n",
    "    \n",
    "    Parameters:\n",
    "    - target: dict with target Shapley values for 'AI','B','CI','CM' (must sum to 1)\n",
    "    - initial_guess: starting guess for [w_CM, w_B, w_CI]\n",
    "    \n",
    "    Returns:\n",
    "    - result.x: optimized [w_CM, w_B, w_CI]\n",
    "    - result: full OptimizeResult from scipy.optimize\n",
    "    \"\"\"\n",
    "    def residuals(w):\n",
    "        sh = compute_shapley(w)\n",
    "        # match B, CI, and CM; AI will automatically sum to ~1\n",
    "        return [\n",
    "            sh[\"B\"]  - target[\"B\"],\n",
    "            sh[\"CI\"] - target[\"CI\"],\n",
    "            sh[\"CM\"] - target[\"CM\"]\n",
    "        ]\n",
    "    \n",
    "    # Bounds: each penalty between 0 and 1\n",
    "    result = least_squares(residuals, initial_guess, bounds=(0,1))\n",
    "    return result.x, result"
   ]
  },
  {
   "cell_type": "code",
   "execution_count": 3,
   "metadata": {},
   "outputs": [
    {
     "name": "stdout",
     "output_type": "stream",
     "text": [
      "Optimized penalties:\n",
      "  w_CM = 0.2000\n",
      "  w_B  = 0.5000\n",
      "  w_CI = 0.1000\n",
      "\n",
      "Resulting Shapley values:\n",
      "  AI: 0.6000\n",
      "  B: 0.2500\n",
      "  CI: 0.0500\n",
      "  CM: 0.1000\n"
     ]
    }
   ],
   "source": [
    "# Example usage:\n",
    "# Desired split: AI 60%, B 25%, CI 5%, CM 10%\n",
    "target_shapley = {\"AI\": 0.60, \"B\": 0.25, \"CI\": 0.05, \"CM\": 0.10}\n",
    "penalties, sol = find_penalties(target_shapley)\n",
    "\n",
    "print(\"Optimized penalties:\")\n",
    "print(f\"  w_CM = {penalties[0]:.4f}\")\n",
    "print(f\"  w_B  = {penalties[1]:.4f}\")\n",
    "print(f\"  w_CI = {penalties[2]:.4f}\")\n",
    "\n",
    "final_shap = compute_shapley(penalties)\n",
    "print(\"\\nResulting Shapley values:\")\n",
    "for role, val in final_shap.items():\n",
    "    print(f\"  {role}: {val:.4f}\")\n"
   ]
  },
  {
   "cell_type": "code",
   "execution_count": null,
   "metadata": {},
   "outputs": [],
   "source": []
  }
 ],
 "metadata": {
  "kernelspec": {
   "display_name": "cel",
   "language": "python",
   "name": "python3"
  },
  "language_info": {
   "codemirror_mode": {
    "name": "ipython",
    "version": 3
   },
   "file_extension": ".py",
   "mimetype": "text/x-python",
   "name": "python",
   "nbconvert_exporter": "python",
   "pygments_lexer": "ipython3",
   "version": "3.10.13"
  }
 },
 "nbformat": 4,
 "nbformat_minor": 2
}
